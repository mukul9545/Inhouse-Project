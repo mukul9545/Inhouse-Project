{
 "cells": [
  {
   "cell_type": "code",
   "execution_count": 1,
   "id": "1fafde7b-dbed-4db8-96a7-7635238523f5",
   "metadata": {},
   "outputs": [
    {
     "name": "stderr",
     "output_type": "stream",
     "text": [
      "C:\\Users\\mukul\\AppData\\Local\\Temp\\ipykernel_23628\\1525379587.py:7: UserWarning: Could not infer format, so each element will be parsed individually, falling back to `dateutil`. To ensure parsing is consistent and as-expected, please specify a format.\n",
      "  df['createdAt'] = pd.to_datetime(df['createdAt'])\n"
     ]
    }
   ],
   "source": [
    "import pandas as pd\n",
    "\n",
    "# Step 2: Read the CSV file into a pandas DataFrame\n",
    "df = pd.read_csv('tweets.csv')\n",
    "\n",
    "# Step 3: Convert the 'createdAt' column to datetime format\n",
    "df['createdAt'] = pd.to_datetime(df['createdAt'])\n",
    "\n",
    "# Step 4: Sort the DataFrame by the 'createdAt' column\n",
    "df_sorted = df.sort_values(by='createdAt')\n",
    "\n",
    "# Step 5: Save the sorted DataFrame back to a CSV file\n",
    "df_sorted.to_csv('your_sorted_file.csv', index=False)\n"
   ]
  },
  {
   "cell_type": "code",
   "execution_count": null,
   "id": "9df9ec11-aa73-478c-a120-4bb3ea68de13",
   "metadata": {},
   "outputs": [],
   "source": []
  }
 ],
 "metadata": {
  "kernelspec": {
   "display_name": "Python 3 (ipykernel)",
   "language": "python",
   "name": "python3"
  },
  "language_info": {
   "codemirror_mode": {
    "name": "ipython",
    "version": 3
   },
   "file_extension": ".py",
   "mimetype": "text/x-python",
   "name": "python",
   "nbconvert_exporter": "python",
   "pygments_lexer": "ipython3",
   "version": "3.12.3"
  }
 },
 "nbformat": 4,
 "nbformat_minor": 5
}
