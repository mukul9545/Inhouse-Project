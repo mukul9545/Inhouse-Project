{
 "cells": [
  {
   "cell_type": "code",
   "execution_count": 1,
   "id": "e8b0d9b5-92dd-4368-94a8-881f4d984c2b",
   "metadata": {},
   "outputs": [
    {
     "name": "stdout",
     "output_type": "stream",
     "text": [
      "                id                  createdAt  \\\n",
      "0     1.610203e+18  2023-01-03 09:13:58+00:00   \n",
      "1     1.610219e+18  2023-01-03 10:17:02+00:00   \n",
      "2     1.610485e+18  2023-01-04 03:55:05+00:00   \n",
      "3     1.610500e+18  2023-01-04 04:53:39+00:00   \n",
      "4     1.610956e+18  2023-01-05 11:07:42+00:00   \n",
      "...            ...                        ...   \n",
      "5296  1.791538e+18  2024-05-17 18:33:49+00:00   \n",
      "5297  1.791545e+18  2024-05-17 19:03:02+00:00   \n",
      "5298  1.791551e+18  2024-05-17 19:28:12+00:00   \n",
      "5299  1.791592e+18  2024-05-17 22:10:30+00:00   \n",
      "5300  1.791612e+18  2024-05-17 23:31:07+00:00   \n",
      "\n",
      "                                             twitterUrl  likeCount  \\\n",
      "0     https://twitter.com/lol_LackOfLogic/status/161...          3   \n",
      "1     https://twitter.com/FortuneIndia/status/161021...          0   \n",
      "2     https://twitter.com/ETtech/status/161048494019...          1   \n",
      "3     https://twitter.com/manishj82484510/status/161...          0   \n",
      "4     https://twitter.com/AleaIT/status/161095619757...          1   \n",
      "...                                                 ...        ...   \n",
      "5296  https://twitter.com/daarrsshhaannnn/status/179...          7   \n",
      "5297  https://twitter.com/MouryaK7/status/1791544978...          0   \n",
      "5298  https://twitter.com/harsh_deepgupta/status/179...          0   \n",
      "5299  https://twitter.com/_M0neyMatters/status/17915...          0   \n",
      "5300  https://twitter.com/NITRkaDual/status/17916124...          0   \n",
      "\n",
      "      retweetCount  viewCount  \\\n",
      "0                2      161.0   \n",
      "1                0      251.0   \n",
      "2                1      683.0   \n",
      "3                0       32.0   \n",
      "4                0      129.0   \n",
      "...            ...        ...   \n",
      "5296             0      276.0   \n",
      "5297             0       19.0   \n",
      "5298             0       72.0   \n",
      "5299             0       29.0   \n",
      "5300             0       25.0   \n",
      "\n",
      "                                                   text  \n",
      "0     #saveEarth your urge to buy unnecessary things...  \n",
      "1     Dunzo, Blinkit, Zepto new distribution platfor...  \n",
      "2     Companies in the quick commerce space, which i...  \n",
      "3     @AmazonHelp Why was my order cancelled? \\n\\nIs...  \n",
      "4     Did you know the global of In-Store pickup and...  \n",
      "...                                                 ...  \n",
      "5296  Idk why people are thanking so much to @letsbl...  \n",
      "5297  @letsblinkit hi, any reason for not having ser...  \n",
      "5298  Looking for sponsorship for upcoming Hackathon...  \n",
      "5299  @letsblinkit @Swiggy @ZeptoNow As per traditio...  \n",
      "5300  @letsblinkit @zomato @deepigoyal \\nHello Blink...  \n",
      "\n",
      "[5301 rows x 7 columns]\n"
     ]
    }
   ],
   "source": [
    "import pandas as pd\n",
    "data=pd.read_csv(\"blinkit_tweets.csv\")\n",
    "print(data)\n"
   ]
  },
  {
   "cell_type": "code",
   "execution_count": null,
   "id": "e7aafe8c-675f-4164-9ea8-e782f45efcec",
   "metadata": {},
   "outputs": [],
   "source": [
    "data1=data.drop_duplicates()\n",
    "print(data1)\n"
   ]
  },
  {
   "cell_type": "code",
   "execution_count": null,
   "id": "1d64e9de-263c-439a-899c-48cfa26a8860",
   "metadata": {},
   "outputs": [],
   "source": [
    "df1=pd.read_csv(\"Final27.csv\")\n",
    "print(df1)\n"
   ]
  },
  {
   "cell_type": "code",
   "execution_count": null,
   "id": "4e739e99-e700-449c-b7dc-62be551fc427",
   "metadata": {},
   "outputs": [],
   "source": [
    "df3=pd.concat([df1,data1],ignore_index=True)\n",
    "print(df3)"
   ]
  },
  {
   "cell_type": "code",
   "execution_count": null,
   "id": "b7d0941a-cd4c-48d5-9772-662d4b1c4a77",
   "metadata": {},
   "outputs": [],
   "source": [
    "df4=df3.drop_duplicates()\n",
    "print(df4)"
   ]
  },
  {
   "cell_type": "code",
   "execution_count": null,
   "id": "3900e85d-1144-414b-a102-7a96c510578b",
   "metadata": {},
   "outputs": [],
   "source": [
    "df4.to_csv(\"Final28.csv\",index=False)"
   ]
  },
  {
   "cell_type": "code",
   "execution_count": null,
   "id": "eccddc4c-e954-402a-9384-17f6ec7aecc8",
   "metadata": {},
   "outputs": [],
   "source": []
  },
  {
   "cell_type": "code",
   "execution_count": null,
   "id": "c703f5ea-2c7f-4db7-a06a-b47b2fd7c6b8",
   "metadata": {},
   "outputs": [],
   "source": []
  },
  {
   "cell_type": "code",
   "execution_count": null,
   "id": "7a054e9a-502f-4bd5-94bd-8e24599e5a3b",
   "metadata": {},
   "outputs": [],
   "source": []
  },
  {
   "cell_type": "code",
   "execution_count": null,
   "id": "6ed0b090-08ab-4b77-8983-2011c0343257",
   "metadata": {},
   "outputs": [],
   "source": []
  }
 ],
 "metadata": {
  "kernelspec": {
   "display_name": "Python 3 (ipykernel)",
   "language": "python",
   "name": "python3"
  },
  "language_info": {
   "codemirror_mode": {
    "name": "ipython",
    "version": 3
   },
   "file_extension": ".py",
   "mimetype": "text/x-python",
   "name": "python",
   "nbconvert_exporter": "python",
   "pygments_lexer": "ipython3",
   "version": "3.12.3"
  }
 },
 "nbformat": 4,
 "nbformat_minor": 5
}
